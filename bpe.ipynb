{
  "cells": [
    {
      "cell_type": "markdown",
      "metadata": {
        "id": "RKboZnAdgrRM"
      },
      "source": [
        "# [NLP] Assignment 1: Tokenization\n",
        "\n",
        "In this assignment, you need to tokenize the text of the Twitter(X) users posts(tweets). The assignment consists of two tasks. When you finish all the tasks, create a GitHub repository for this assignment (you can use this repo later for the other assignments) and submit this notebook in the repository. Leave `requirements.txt` file if your code requires additional installations. Submit the link to the repository in Moodle.\n",
        "\n",
        "The [data](https://drive.google.com/file/d/15x_wPAflvYQ2Xh38iNQGrqUIWLj5l5Nw/view?usp=share_link) contains 5 files whereby each contains 44 tweets. Each tweet is separated by a newline."
      ]
    },
    {
      "cell_type": "markdown",
      "metadata": {
        "id": "aLDjjAvemUP_"
      },
      "source": [
        "## Task 1. Tokenize some tweets manually (20 points)\n",
        "\n",
        "As a first task you need to tokenize first 15 tweets from `file2` by hand. This will allow you to understand the problem from a linguistic point of view. The guidelines for tweet tokenization are as follows:\n",
        "\n",
        "- Each smiley is a separate token\n",
        "- Each hashtag is an individual token. Each user reference is an individual token\n",
        "- If a word has spaces between them then it is converted to a single token\n",
        "- All punctuations are individual tokens. This includes double-quotes and single quotes also\n",
        "- A URL is a single token\n",
        "\n",
        "Example of output\n",
        "\n",
        "    Input tweet\n",
        "    @xfranman Old age has made N A T O!\n",
        "\n",
        "    Tokenized tweet (separated by comma)\n",
        "    @xfranman , Old , age , has , made , NATO , !"
      ]
    },
    {
      "cell_type": "markdown",
      "metadata": {
        "id": "7KKKwTidnzUw"
      },
      "source": [
        "\n",
        "    1. Input tweet\n",
        "    Camping in Maine for the weekend. Hey Dad, Mama Loves YOU: http://www.mamapalooza.com\n",
        "    1. Tokenized tweet\n",
        "    Camping , in , Maine , for , the , weekend , . , Hey , Dad , , , Mama , Loves , YOU , : , http://www.mamapalooza.com\n",
        "\n",
        "    2. Input tweet\n",
        "    Its american tradition bitch\n",
        "    2. Tokenized tweet\n",
        "    It, s , american , tradition , bitch\n",
        "\n",
        "    3. Input tweet\n",
        "    @ThroughTheVoid They love it! The only pleasure they get in life. I actually do that. I'm sure I hear a tiny squeak... Then louder ones\n",
        "    3. Tokenized tweet\n",
        "    @ThroughTheVoid , They , love , it , ! , The , only , pleasure , they , get , in , life , . , I , actually , do , that , . , I , ' , m , sure , I , hear , a , tiny , squeak , ... , Then , louder , ones\n",
        "\n",
        "    4. Input tweet\n",
        "    \" RT @latti: @AbsoHilare stop tweeting in church! Lol <--- \"\"I tweet because I'm happy, I tweet because I'm free\"\" LOL!\"\n",
        "    4. Tokenized tweet\n",
        "    \" , RT , @latti , : , @AbsoHilare , stop , tweeting , in , church , ! , Lol , < , - , - , - , \" , \" , I , tweet , because , I , ' , m , happy , , , I , tweet , because , I , ' , m , free , , \" , \" , LOL , ! , \" ,\n",
        "\n",
        "    5. Input tweet\n",
        "    Samsung Mini S2 portable HDD graced with colors that perfectly match your tacky beach gear: Sammy's done it aga.. http://tinyurl.com/lb5p6m\n",
        "    5. Tokenized tweet\n",
        "    Samsung , Mini , S2 , portable , HDD , graced , with , colors , that , perfectly , match , your , tacky , beach , gear , : , Sammy , ' , s , done , it , aga.. , http://tinyurl.com/lb5p6m\n",
        "\n",
        "    6. Input tweet\n",
        "    @dialloc congrats on finding your way over. it may be slow going at first. hang in there. it's kinda cool when u get up to speed.\n",
        "    6. Tokenized tweet\n",
        "    @dialloc , congrats , on , finding , your , way , over , . , it , may , be , slow , going , at , first , . , hang , in , there , . , it , ' , s , kinda , cool , when , u , get , up , to , speed , .\n",
        "\n",
        "    7. Input tweet\n",
        "    iPhone activation delays continue, Apple offers $30 http://twt.gs/l3Ki\n",
        "    7. Tokenized tweet\n",
        "    iPhone , activation , delays , continue , , , Apple , offers , $30 , http://twt.gs/l3Ki\n",
        "\n",
        "    8. Input tweet\n",
        "    RT @GoogleAtWork Gmail maximum attachment size now 25MB http://bit.ly/62mjw Nice!!!\n",
        "    8. Tokenized tweet\n",
        "    RT , @GoogleAtWork , Gmail , maximum , attachment , size , now , 25MB , http://bit.ly/62mjw , Nice , ! , ! , !\n",
        "\n",
        "    9. Input tweet\n",
        "    RT @acfou The Ads Won Awards for Crispin; But Did Nothing for Client BurgerKing's Sales/Marketshare - Big Surprise - http://ping.fm/vw8TI\n",
        "    9. Tokenized tweet\n",
        "    RT , @acfou , The , Ads , Won , Awards , for , Crispin , ; , But , Did , Nothing , for , Client , Burger , King , ' , s , Sales , / , Marketshare , - , Big , Surprise , - , http://ping.fm/vw8TI\n",
        "\n",
        "    10. Input tweet\n",
        "    Hey doll! Great I missed True Blood yday boo lol Rt @FrankBanuat78 @jhillstephens Hello Sunshine how are u today? :-)\n",
        "    10. Tokenized tweet\n",
        "    Hey , doll , ! , Great , I , missed , True , Blood , yday , boo , lol , Rt , @FrankBanuat78 , @jhillstephens , Hello , Sunshine , how , are , u , today , ? , :-)\n",
        "\n",
        "    11. Input tweet\n",
        "    Australian artist Pogo made these free songs primarily from sampled audio from Alice In Wonderland. http://www.last.fm/music/Pogo/Wonderland\n",
        "    11. Tokenized tweet\n",
        "    Australian , artist , Pogo , made , these , free , songs , primarily , from , sampled , audio , from , Alice , In , Wonderland , . , http://www.last.fm/music/Pogo/Wonderland\n",
        "\n",
        "    12. Input tweet\n",
        "    @mppritchard they wanted to sell all the preorders & then sell all of the ones they had in stock to those that just walked in. Can't do both\n",
        "    12. Tokenized tweet\n",
        "    @mppritchard , they , wanted , to , sell , all , the , preorders , & , then , sell , all , of , the , ones , they , had , in , stock , to , those , that , just , walked , in , . , Can , ' , t , do , both\n",
        "\n",
        "    13. Input tweet\n",
        "    Incoming: Frightened Rabbit, Sept. 22 (Tucson): If Fat Cat Records is going to send three great bands from Scot.. http://tinyurl.com/nz6xcv\n",
        "    13. Tokenized tweet\n",
        "    Incoming , : , Frightened , Rabbit , , , Sept , . , 22 , ( , Tucson , ) , : , If , Fat , Cat , Records , is , going , to , send , three , great , bands , from , Scot.. , http://tinyurl.com/nz6xcv\n",
        "\n",
        "    14. Input tweet\n",
        "    Hey @ginoandfran please greet philip! (GinoandFran live > http://ustre.am/2YyQ)\n",
        "    14. Tokenized tweet\n",
        "    Hey , @ginoandfran , please , greet , philip , ! , ( , GinoandFran , live , > , http://ustre.am/2YyQ , )\n",
        "\n",
        "    15. Input tweet\n",
        "    Ik weet niet wie er achter de T-Mobile iPhone Twitter zit maar ik vind het niet echt 'corporate' taalgebruik... Best vreemd eigenlijk\n",
        "    15. Tokenized tweet\n",
        "    Ik , weet , niet , wie , er , achter , de , T-Mobile , iPhone , Twitter , zit , maar , ik , vind , het , niet , echt , ' , corporate , ' , taalgebruik , ... , Best , vreemd , eigenlijk"
      ]
    },
    {
      "cell_type": "markdown",
      "metadata": {
        "id": "-2J2AD2nmUhi"
      },
      "source": [
        "## Task 2. Implement [Byte-Pair Encoding(BPE)](https://arxiv.org/pdf/1508.07909.pdf) Tokenizer (80 points)\n",
        "\n",
        "### Task 2.1. Implementation (60 points)\n",
        "\n",
        "Implement the tokenizer as the BPETokenizer class:\n",
        "* Implement `train` method that learns merges and builds the vocabulary of the specified `vocab_size` (25 points).\n",
        "* Implement `tokenize` method that should tokenize the text according to the learnt merges (25 points).\n",
        "\n",
        "Your code should have docstrings and comments (10 points)."
      ]
    },
    {
      "cell_type": "code",
      "execution_count": 1,
      "metadata": {
        "id": "xVG3N56wGLPy"
      },
      "outputs": [],
      "source": [
        "import re\n",
        "\n",
        "from collections import defaultdict, Counter\n",
        "from typing import List\n",
        "\n",
        "\n",
        "class BPETokenizer:\n",
        "    \"\"\"\n",
        "    Some functions adapted from:\n",
        "    https://www.geeksforgeeks.org/byte-pair-encoding-bpe-in-nlp/\n",
        "    \"\"\"\n",
        "\n",
        "    def __init__(self, vocab_size: int) -> None:\n",
        "        self.vocab_size = vocab_size\n",
        "        self.vocab = None\n",
        "        self.merges = None\n",
        "        self.tokens = None\n",
        "\n",
        "    def __get_stats(self):\n",
        "        \"\"\"\n",
        "        Given a vocabulary (dictionary mapping words to frequency counts), returns a\n",
        "        dictionary of tuples representing the frequency count of pairs of characters\n",
        "        in the vocabulary.\n",
        "        \"\"\"\n",
        "        pairs = defaultdict(int)\n",
        "        for word, freq in self.vocab.items():\n",
        "            symbols = word.split()\n",
        "            for i in range(len(symbols)-1):\n",
        "                pairs[symbols[i],symbols[i+1]] += freq\n",
        "        return pairs\n",
        "\n",
        "    def __merge_vocab(self, pair):\n",
        "        \"\"\"\n",
        "        Given a pair of characters and a vocabulary, returns a new vocabulary with the\n",
        "        pair of characters merged together wherever they appear.\n",
        "        \"\"\"\n",
        "        v_out = {}\n",
        "        bigram = re.escape(' '.join(pair))\n",
        "        p = re.compile(r'(?<!\\S)' + bigram + r'(?!\\S)')\n",
        "        for word in self.vocab:\n",
        "            w_out = p.sub(''.join(pair), word)\n",
        "            v_out[w_out] = self.vocab[word]\n",
        "        return v_out\n",
        "\n",
        "    def __get_vocab(self, corpus: List[str]):\n",
        "        \"\"\"\n",
        "        Given a list of strings, returns a dictionary of words mapping to their frequency\n",
        "        count in the data.\n",
        "        \"\"\"\n",
        "        vocab = defaultdict(int)\n",
        "        for line in corpus:\n",
        "            for word in line.split():\n",
        "                vocab[' '.join(list(word)) + ' </w>'] += 1\n",
        "\n",
        "        return vocab\n",
        "\n",
        "    def __merge_tokens(self, merge):\n",
        "        merged = merge[0] + merge[1]\n",
        "        i = 0\n",
        "        while i < len(self.tokens) - 2:\n",
        "            if self.tokens[i] == merge[0] and self.tokens[i + 1] == merge[1]:\n",
        "                self.tokens[i] = merged\n",
        "                del self.tokens[i + 1]\n",
        "\n",
        "            i += 1\n",
        "\n",
        "    def train(self, corpus: List[str]) -> None:\n",
        "        \"\"\"\n",
        "        Given a list of strings and an integer n, returns a list of n merged pairs\n",
        "        of characters found in the vocabulary of the input data.\n",
        "        \"\"\"\n",
        "        self.vocab = self.__get_vocab(corpus)\n",
        "        self.merges = []\n",
        "        for i in range(self.vocab_size):\n",
        "            pairs = self.__get_stats()\n",
        "            best = max(pairs, key=pairs.get)\n",
        "            self.vocab = self.__merge_vocab(best)\n",
        "            self.merges.append(best)\n",
        "\n",
        "        return self.vocab\n",
        "\n",
        "    def tokenize(self, text: str) -> List[str]:\n",
        "        self.tokens = list(text)\n",
        "        self.tokens = [t if t != ' ' else '</w>' for t in self.tokens]\n",
        "\n",
        "        for merge in self.merges:\n",
        "            self.__merge_tokens(merge)\n",
        "\n",
        "        self.tokens = [t.replace('</w>', '') for t in self.tokens if t != '</w>']\n",
        "\n",
        "        return self.tokens"
      ]
    },
    {
      "cell_type": "code",
      "source": [
        "corpus = '''Tokenization is the process of breaking down\n",
        "a sequence of text into smaller units called tokens,\n",
        "which can be words, phrases, or even individual characters.\n",
        "Tokenization is often the first step in natural languages processing tasks\n",
        "such as text classification, named entity recognition, and sentiment analysis.\n",
        "The resulting tokens are typically used as input to further processing steps,\n",
        "such as vectorization, where the tokens are converted\n",
        "into numerical representations for machine learning models to use.'''\n",
        "data = corpus.split('.')\n",
        "\n",
        "bpe_tokenizer = BPETokenizer(130)\n",
        "vocab = bpe_tokenizer.train(data)\n",
        "print(bpe_tokenizer.merges)\n",
        "tokens = bpe_tokenizer.tokenize(corpus)\n",
        "print(tokens)"
      ],
      "metadata": {
        "colab": {
          "base_uri": "https://localhost:8080/"
        },
        "id": "j8q4zTJ-lBwY",
        "outputId": "13c1c466-64c2-458f-9569-09c43b01256f"
      },
      "execution_count": 2,
      "outputs": [
        {
          "output_type": "stream",
          "name": "stdout",
          "text": [
            "[('s', '</w>'), ('e', 'n'), ('e', '</w>'), ('i', 'n'), ('t', 'i'), ('t', 'o'), ('o', 'n'), ('a', 'l'), (',', '</w>'), ('ti', 'on'), ('e', 's'), ('t', 'e'), ('k', 'en'), ('a', 'tion'), ('in', 'g'), ('ing', '</w>'), ('t', '</w>'), ('e', 'r'), ('d', '</w>'), ('c', 'h'), ('t', 'h'), ('p', 'r'), ('to', '</w>'), ('a', 'n'), ('a', 'r'), ('i', 'z'), ('iz', 'ation'), ('i', 's</w>'), ('th', 'e</w>'), ('pr', 'o'), ('pro', 'c'), ('proc', 'es'), ('o', 'f'), ('r', 'e'), ('al', 'l'), ('e', 'd</w>'), ('to', 'ken'), ('s', ',</w>'), ('ch', '</w>'), ('o', 'r'), ('a', 's'), ('al', '</w>'), ('a', 's</w>'), ('i', 'c'), ('T', 'o'), ('To', 'ken'), ('Token', 'ization'), ('Tokenization', '</w>'), ('of', '</w>'), ('te', 'x'), ('tex', 't</w>'), ('in', 'to</w>'), ('er', '</w>'), ('n', 'i'), ('w', 'h'), ('or', '</w>'), ('en', '</w>'), ('s', 'te'), ('ste', 'p'), ('n', 'a'), ('u', 'r'), ('proces', 's'), ('process', 'ing</w>'), ('s', 'u'), ('su', 'ch</w>'), ('en', 'ti'), ('t', 'y'), ('token', 's</w>'), ('ar', 'e</w>'), ('u', 's'), ('proces', 's</w>'), ('b', 're'), ('bre', 'a'), ('brea', 'k'), ('break', 'ing</w>'), ('d', 'o'), ('do', 'w'), ('dow', 'n'), ('down', '</w>'), ('a', '</w>'), ('s', 'e'), ('se', 'q'), ('seq', 'u'), ('sequ', 'en'), ('sequen', 'c'), ('sequenc', 'e</w>'), ('s', 'm'), ('sm', 'all'), ('small', 'er</w>'), ('u', 'ni'), ('uni', 't'), ('unit', 's</w>'), ('c', 'all'), ('call', 'ed</w>'), ('token', 's,</w>'), ('wh', 'i'), ('whi', 'ch</w>'), ('c', 'an'), ('can', '</w>'), ('b', 'e</w>'), ('w', 'or'), ('wor', 'd'), ('word', 's,</w>'), ('p', 'h'), ('ph', 'r'), ('phr', 'as'), ('phras', 'es'), ('phrases', ',</w>'), ('e', 'v'), ('ev', 'en</w>'), ('in', 'd'), ('ind', 'i'), ('indi', 'v'), ('indiv', 'i'), ('indivi', 'd'), ('individ', 'u'), ('individu', 'al</w>'), ('ch', 'ar'), ('char', 'a'), ('chara', 'c'), ('charac', 'te'), ('characte', 'r'), ('character', 's</w>'), ('of', 't'), ('oft', 'en</w>'), ('f', 'i'), ('fi', 'r'), ('fir', 's'), ('firs', 't</w>'), ('step', '</w>')]\n",
            "['Tokenization', 'is', 'the', 'process', 'of', 'breaking', 'down', '\\n', 'a', 'sequence', 'of', 'text', 'into', 'smaller', 'units', 'called', 'tokens,', '\\n', 'which', 'can', 'be', 'words,', 'phrases,', 'or', 'even', 'individual', 'character', 's', '.', '\\n', 'Tokenization', 'is', 'often', 'the', 'first', 'step', 'in', 'na', 't', 'ur', 'al', 'l', 'an', 'g', 'u', 'a', 'g', 'e', 's', 'processing', 't', 'as', 'k', 's', '\\n', 'such', 'as', 'text', 'c', 'l', 'as', 's', 'i', 'f', 'ic', 'ation', ',', 'na', 'm', 'ed', 'enti', 'ty', 're', 'c', 'o', 'g', 'ni', 'tion', ',', 'an', 'd', 's', 'enti', 'm', 'en', 't', 'an', 'al', 'y', 's', 'i', 's', '.', '\\n', 'T', 'h', 'e', 'r', 'es', 'u', 'l', 't', 'ing', 'tokens', 'are', 'ty', 'p', 'ic', 'all', 'y', 'us', 'ed', 'as', 'in', 'p', 'u', 't', 'to', 'f', 'ur', 'th', 'er', 'processing', 'step', 's,', '\\n', 'such', 'as', 'v', 'e', 'c', 'to', 'r', 'ization', ',', 'wh', 'er', 'e', 'the', 'tokens', 'are', 'c', 'on', 'v', 'er', 'te', 'd', '\\n', 'into', 'n', 'u', 'm', 'er', 'ic', 'al', 're', 'pr', 'es', 'en', 't', 'ation', 's', 'f', 'or', 'm', 'a', 'ch', 'in', 'e', 'l', 'e', 'ar', 'n', 'ing', 'm', 'o', 'd', 'e', 'l', 's', 'to', 'us', 'e', '.']\n"
          ]
        }
      ]
    },
    {
      "cell_type": "markdown",
      "metadata": {
        "id": "QYCtc82_GLPy"
      },
      "source": [
        "### Task 2.2. Analysis on Tweets Dataset (10 points)\n",
        "\n",
        "Train the BPE tokenizer on the tweets dataset. Try to tokenize the tweets with the tokenizer of different `vocab_size`. For example, train the BPE tokenizer with `vocab_size` of [base_vocab_size, 250, 500, 750, 1000]. Plot the dependency of the average length of the tokenized tweet by `vocab_size` to analyze how `vocab_size` affects the length of the tokenized tweet on average. Tell what `vocab_size` is preferrable and why."
      ]
    },
    {
      "cell_type": "markdown",
      "source": [
        "Read data"
      ],
      "metadata": {
        "id": "B6FGunzexM2a"
      }
    },
    {
      "cell_type": "code",
      "source": [
        "!gdown 15x_wPAflvYQ2Xh38iNQGrqUIWLj5l5Nw\n",
        "!unzip Assignment1_data.zip"
      ],
      "metadata": {
        "colab": {
          "base_uri": "https://localhost:8080/"
        },
        "id": "ACYM2LeM11TU",
        "outputId": "b213b8ff-b75b-46af-91e3-c1d9ba3289f2"
      },
      "execution_count": 3,
      "outputs": [
        {
          "output_type": "stream",
          "name": "stdout",
          "text": [
            "Downloading...\n",
            "From: https://drive.google.com/uc?id=15x_wPAflvYQ2Xh38iNQGrqUIWLj5l5Nw\n",
            "To: /content/Assignment1_data.zip\n",
            "\r  0% 0.00/15.6k [00:00<?, ?B/s]\r100% 15.6k/15.6k [00:00<00:00, 31.9MB/s]\n",
            "Archive:  Assignment1_data.zip\n",
            "  inflating: file5                   \n",
            "  inflating: __MACOSX/._file5        \n",
            "  inflating: file4                   \n",
            "  inflating: __MACOSX/._file4        \n",
            "  inflating: file3                   \n",
            "  inflating: __MACOSX/._file3        \n",
            "  inflating: file2                   \n",
            "  inflating: __MACOSX/._file2        \n",
            "  inflating: file1                   \n",
            "  inflating: __MACOSX/._file1        \n"
          ]
        }
      ]
    },
    {
      "cell_type": "code",
      "execution_count": 4,
      "metadata": {
        "id": "pOElcOM3GLPz"
      },
      "outputs": [],
      "source": [
        "# concatenate tweets\n",
        "files = [f'file{i}' for i in range(1, 6)]\n",
        "tweets = []\n",
        "\n",
        "for fname in files:\n",
        "    with open(fname, 'r') as f:\n",
        "        data = f.read().split('\\n')[:-1]\n",
        "        tweets += data"
      ]
    },
    {
      "cell_type": "markdown",
      "source": [
        "Train tokenizers"
      ],
      "metadata": {
        "id": "vSB72L81xjcq"
      }
    },
    {
      "cell_type": "code",
      "source": [
        "from tqdm import tqdm\n",
        "\n",
        "vocab_sizes = [250, 500, 750, 1000, 2500]\n",
        "tokenizers = [BPETokenizer(s) for s in vocab_sizes]\n",
        "for t in tqdm(tokenizers):\n",
        "    t.train(tweets)"
      ],
      "metadata": {
        "colab": {
          "base_uri": "https://localhost:8080/"
        },
        "id": "F_dQTJ6sxlOq",
        "outputId": "c345bcc3-0b7b-4bf7-d440-f2441aeb17eb"
      },
      "execution_count": 5,
      "outputs": [
        {
          "output_type": "stream",
          "name": "stderr",
          "text": [
            "100%|██████████| 5/5 [00:46<00:00,  9.21s/it]\n"
          ]
        }
      ]
    },
    {
      "cell_type": "markdown",
      "source": [
        "Measure average tweet lengths"
      ],
      "metadata": {
        "id": "ItpyO8LGzhku"
      }
    },
    {
      "cell_type": "code",
      "source": [
        "avg_lengths = []\n",
        "\n",
        "for tokenizer in tqdm(tokenizers):\n",
        "    avg_length = 0\n",
        "    for tweet in tweets:\n",
        "        tokens = tokenizer.tokenize(tweet)\n",
        "        avg_length += len(tokens)\n",
        "    avg_length /= len(tweets)\n",
        "    avg_lengths.append(avg_length)\n",
        "\n",
        "avg_tweet_length = sum([len(t.split()) for t in tweets]) / len(tweets)"
      ],
      "metadata": {
        "id": "8OacuwOc5QRG",
        "outputId": "44ed51b4-c48c-42e9-d7b5-a61daf99090e",
        "colab": {
          "base_uri": "https://localhost:8080/"
        }
      },
      "execution_count": 6,
      "outputs": [
        {
          "output_type": "stream",
          "name": "stderr",
          "text": [
            "100%|██████████| 5/5 [00:11<00:00,  2.23s/it]\n"
          ]
        }
      ]
    },
    {
      "cell_type": "markdown",
      "source": [
        "Plotting dependency"
      ],
      "metadata": {
        "id": "e6yaTbtQ02tx"
      }
    },
    {
      "cell_type": "code",
      "source": [
        "import matplotlib.pyplot as plt\n",
        "\n",
        "# Setting the fontsize of the axis label to 20\n",
        "plt.xlabel('Vocab size')\n",
        "plt.ylabel('Tokenized tweet length (AVG)')\n",
        "\n",
        "plt.plot(vocab_sizes, avg_lengths, label='Average tokens')\n",
        "plt.plot(vocab_sizes, [avg_tweet_length] * len(vocab_sizes), label='Average words')\n",
        "plt.legend()\n",
        "plt.show()"
      ],
      "metadata": {
        "colab": {
          "base_uri": "https://localhost:8080/",
          "height": 449
        },
        "id": "xemiXNfG08EP",
        "outputId": "01ad0221-2a36-441c-96e1-401a757cf3c3"
      },
      "execution_count": 7,
      "outputs": [
        {
          "output_type": "display_data",
          "data": {
            "text/plain": [
              "<Figure size 640x480 with 1 Axes>"
            ],
            "image/png": "[encoded data removed]"
          },
          "metadata": {}
        }
      ]
    },
    {
      "cell_type": "markdown",
      "source": [
        "As we can observe, average tokenized tweet length drops with increasing vocab size. As a rule of thumb, number of tokens should be close to number of words, separated by spaces, to ensure better words coverage. That's why on this plot, vocab size of 2500 is preferable. However, it's important to remember that greater vocab size means greater resource usage (memory and time)."
      ],
      "metadata": {
        "id": "DOA5Cb7f3vZq"
      }
    },
    {
      "cell_type": "markdown",
      "metadata": {
        "id": "30wOl_uoGLPz"
      },
      "source": [
        "### Task 2.3. Analysis on Dataset of Different Language (10 points)\n",
        "\n",
        "Find a small dataset of texts in a language other than English. The dataset size should be not greater than several megabytes.\n",
        "\n",
        "Train the BPE tokenizer on the dataset that you found. Try to tokenize the sentences from this dataset with the tokenizer of different `vocab_size`. Plot the dependency of the average length of the tokenized sentence by `vocab_size` to analyze how `vocab_size` affects the length of the tokenized sentence on average.\n",
        "\n",
        "Tell how how the average length of the tokenized sentence differs from the average length of the tokenized tweet. Explain why."
      ]
    },
    {
      "cell_type": "markdown",
      "source": [
        "Read data"
      ],
      "metadata": {
        "id": "eSTzVjCe69Vc"
      }
    },
    {
      "cell_type": "code",
      "execution_count": 8,
      "metadata": {
        "id": "NUI5pHTyGLPz",
        "colab": {
          "base_uri": "https://localhost:8080/"
        },
        "outputId": "c4aebece-0468-458b-e194-b797cfb3a03f"
      },
      "outputs": [
        {
          "output_type": "stream",
          "name": "stdout",
          "text": [
            "Downloading...\n",
            "From: https://drive.google.com/uc?id=1-PONKp982gKv5E7Kvi1wfLnkbIrDdR0R\n",
            "To: /content/mertvye-dushi.txt\n",
            "\r  0% 0.00/741k [00:00<?, ?B/s]\r100% 741k/741k [00:00<00:00, 12.9MB/s]\n"
          ]
        }
      ],
      "source": [
        "!gdown 1-PONKp982gKv5E7Kvi1wfLnkbIrDdR0R"
      ]
    },
    {
      "cell_type": "code",
      "source": [
        "with open('mertvye-dushi.txt', 'r', encoding='cp1251') as f:\n",
        "    corpus = f.read()\n",
        "\n",
        "corpus = corpus.replace('\\n', '').replace('\\t', '').replace('\\r', '')\n",
        "sentences = re.split(r'[.!?]', corpus)\n",
        "sentences[52]"
      ],
      "metadata": {
        "colab": {
          "base_uri": "https://localhost:8080/",
          "height": 90
        },
        "id": "vOAQ2PiM55Lh",
        "outputId": "b49167d1-7fd0-4bd2-b99c-9148d47dec5e"
      },
      "execution_count": 9,
      "outputs": [
        {
          "output_type": "execute_result",
          "data": {
            "text/plain": [
              "' Впрочем, хотя эти деревца были не выше тростника, о них было сказано в газетах при описании иллюминации, что \"город наш украсился, благодаря попечению гражданского правителя, садом, состоящим из тенистых, широковетвистых дерев, дающих прохладу в знойный день\", и что при этом \"было очень умилительно глядеть, как сердца граждан трепетали в избытке благодарности и струили потоки слез в знак признательности к господину градоначальнику\"'"
            ],
            "application/vnd.google.colaboratory.intrinsic+json": {
              "type": "string"
            }
          },
          "metadata": {},
          "execution_count": 9
        }
      ]
    },
    {
      "cell_type": "markdown",
      "source": [
        "Train tokenizers"
      ],
      "metadata": {
        "id": "0v-oSy-X7xmh"
      }
    },
    {
      "cell_type": "code",
      "source": [
        "vocab_sizes = [250, 500, 750, 1000, 2500]\n",
        "tokenizers = [BPETokenizer(s) for s in vocab_sizes]\n",
        "for t in tqdm(tokenizers):\n",
        "    t.train(sentences[:1000])"
      ],
      "metadata": {
        "colab": {
          "base_uri": "https://localhost:8080/"
        },
        "id": "r4ivDz4M7poL",
        "outputId": "93a7bcab-89b4-4fec-f993-3b8afc57a076"
      },
      "execution_count": 10,
      "outputs": [
        {
          "output_type": "stream",
          "name": "stderr",
          "text": [
            "100%|██████████| 5/5 [02:10<00:00, 26.13s/it]\n"
          ]
        }
      ]
    },
    {
      "cell_type": "markdown",
      "source": [
        "Measure average tokenized sentence length"
      ],
      "metadata": {
        "id": "btZRcUGa8CT6"
      }
    },
    {
      "cell_type": "code",
      "source": [
        "avg_lengths = []\n",
        "\n",
        "for tokenizer in tqdm(tokenizers):\n",
        "    avg_length = 0\n",
        "    for sentence in sentences[1000:2000]:\n",
        "        tokens = tokenizer.tokenize(sentence)\n",
        "        avg_length += len(tokens)\n",
        "    avg_length /= len(sentence)\n",
        "    avg_lengths.append(avg_length)\n",
        "\n",
        "avg_sentence_length = sum([len(t.split()) for t in sentences]) / len(sentences)"
      ],
      "metadata": {
        "colab": {
          "base_uri": "https://localhost:8080/"
        },
        "id": "RB8Uaw1p78eR",
        "outputId": "559af0d4-d1ec-4cb8-b706-31ee441d7995"
      },
      "execution_count": 11,
      "outputs": [
        {
          "output_type": "stream",
          "name": "stderr",
          "text": [
            "100%|██████████| 5/5 [00:36<00:00,  7.24s/it]\n"
          ]
        }
      ]
    },
    {
      "cell_type": "markdown",
      "source": [
        "Plotting dependency"
      ],
      "metadata": {
        "id": "L6rziwWm8liF"
      }
    },
    {
      "cell_type": "code",
      "source": [
        "# Setting the fontsize of the axis label to 20\n",
        "plt.xlabel('Vocab size')\n",
        "plt.ylabel('Tokenized sentence length (AVG)')\n",
        "\n",
        "plt.plot(vocab_sizes, avg_lengths, label='Average tokens')\n",
        "plt.plot(vocab_sizes, [avg_sentence_length] * len(vocab_sizes), label='Average words')\n",
        "plt.legend()\n",
        "plt.show()"
      ],
      "metadata": {
        "colab": {
          "base_uri": "https://localhost:8080/",
          "height": 449
        },
        "id": "EfGxNr7R8Vun",
        "outputId": "09338fd9-cc07-40b6-bd7c-5c130c242e13"
      },
      "execution_count": 12,
      "outputs": [
        {
          "output_type": "display_data",
          "data": {
            "text/plain": [
              "<Figure size 640x480 with 1 Axes>"
            ],
            "image/png": "[encoded data removed]"
          },
          "metadata": {}
        }
      ]
    },
    {
      "cell_type": "markdown",
      "source": [
        "Average length of the tokenized sentence is much bigger than the average length of the tokenized tweet, because Gogol's sentences are long. Also russian language is more complex in terms of words' declensions and cases."
      ],
      "metadata": {
        "id": "KSknGGGd-Zxh"
      }
    }
  ],
  "metadata": {
    "colab": {
      "provenance": []
    },
    "kernelspec": {
      "display_name": "Python 3",
      "name": "python3"
    },
    "language_info": {
      "name": "python"
    }
  },
  "nbformat": 4,
  "nbformat_minor": 0
}